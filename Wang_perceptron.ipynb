{
 "cells": [
  {
   "cell_type": "code",
   "execution_count": null,
   "metadata": {
    "collapsed": true
   },
   "outputs": [],
   "source": [
    "#!/usr/bin/python3"
   ]
  },
  {
   "cell_type": "code",
   "execution_count": null,
   "metadata": {
    "collapsed": true
   },
   "outputs": [],
   "source": [
    "import numpy as np\n",
    "import argparse"
   ]
  },
  {
   "cell_type": "code",
   "execution_count": null,
   "metadata": {},
   "outputs": [],
   "source": [
    "# Read data from training file\n",
    "file = open(\"/u/cs246/data/adult/a7a.train\")\n",
    "record_collect = []\n",
    "for line in file:\n",
    "    record_collect.append(line)\n",
    "feature_collection = []\n",
    "class_label_collection = []\n",
    "for i in record_collect:\n",
    "    record = i.split()\n",
    "    class_label_collection.append(int(record[0]))\n",
    "    feature_record = [0] * 123 + [1]\n",
    "    for j in range(1,len(record)):\n",
    "        position = record[j].find(':')\n",
    "        #print(type(position))\n",
    "        temp = record[j]\n",
    "        location_list = int(temp[0:position])\n",
    "        feature_record[location_list] = 1\n",
    "    feature_collection.append(feature_record)\n",
    "    \n"
   ]
  },
  {
   "cell_type": "code",
   "execution_count": null,
   "metadata": {
    "collapsed": true
   },
   "outputs": [],
   "source": [
    "# Read the test data\n",
    "file = open(\"/u/cs246/data/adult/a7a.test\")\n",
    "record_collect_test = []\n",
    "for line in file:\n",
    "    record_collect_test.append(line)\n",
    "feature_collection_test = []\n",
    "class_label_collection_test = []\n",
    "for i in record_collect_test:\n",
    "    record_test = i.split()\n",
    "    class_label_collection_test.append(int(record_test[0]))\n",
    "    feature_record_test = [0] * 123 + [1]\n",
    "    for j in range(1,len(record_test)):\n",
    "        position = record_test[j].find(':')\n",
    "        #print(type(position))\n",
    "        temp = record_test[j]\n",
    "        location_list_test = int(temp[0:position])\n",
    "        feature_record_test[location_list_test] = 1\n",
    "    feature_collection_test.append(feature_record_test)"
   ]
  },
  {
   "cell_type": "code",
   "execution_count": null,
   "metadata": {
    "collapsed": true
   },
   "outputs": [],
   "source": [
    "# Read the development data\n",
    "file = open(\"/u/cs246/data/adult/a7a.dev\")\n",
    "record_collect_dev = []\n",
    "for line in file:\n",
    "    record_collect_dev.append(line)\n",
    "feature_collection_dev = []\n",
    "class_label_collection_dev = []\n",
    "for i in record_collect_dev:\n",
    "    record_dev = i.split()\n",
    "    class_label_collection_dev.append(int(record_dev[0]))\n",
    "    feature_record_dev = [0] * 123 + [1]\n",
    "    for j in range(1,len(record_dev)):\n",
    "        position = record_dev[j].find(':')\n",
    "        #print(type(position))\n",
    "        temp = record_dev[j]\n",
    "        location_list_dev = int(temp[0:position])\n",
    "        feature_record_dev[location_list_dev] = 1\n",
    "    feature_collection_dev.append(feature_record_dev)"
   ]
  },
  {
   "cell_type": "code",
   "execution_count": null,
   "metadata": {
    "collapsed": true
   },
   "outputs": [],
   "source": [
    "def sign (n):\n",
    "    if n > 0:\n",
    "        return 1\n",
    "    elif n == 0:\n",
    "        return 0\n",
    "    else:\n",
    "        return -1"
   ]
  },
  {
   "cell_type": "code",
   "execution_count": null,
   "metadata": {
    "collapsed": true
   },
   "outputs": [],
   "source": [
    "def times(list1,list2):\n",
    "    result = 0\n",
    "    for i in range(len(list1)):\n",
    "        temp = list1[i]*list2[i]\n",
    "        result = result + temp\n",
    "    return result"
   ]
  },
  {
   "cell_type": "code",
   "execution_count": null,
   "metadata": {
    "collapsed": true
   },
   "outputs": [],
   "source": [
    "def perceptron(iterations,weight_vector):\n",
    "    for i in range(iterations):\n",
    "        error_count = 0\n",
    "        for j in range(len(feature_collection)):\n",
    "            predict_sign = sign(times(weight_vector,feature_collection[j]))\n",
    "            if predict_sign != class_label_collection[j]:\n",
    "                error_count += 1\n",
    "                weight_vector = list(np.add(weight_vector, \\\n",
    "                                            list(np.multiply(class_label_collection[j],feature_collection[j]))))\n",
    "        if error_count == 0:\n",
    "            return weight_vector\n",
    "    return weight_vector"
   ]
  },
  {
   "cell_type": "code",
   "execution_count": null,
   "metadata": {
    "collapsed": true
   },
   "outputs": [],
   "source": [
    "def accuracy(class_label, weight, test):\n",
    "    count = 0\n",
    "    for i in range(len(test)):\n",
    "        predict = sign(times(weight,test[i]))\n",
    "        if predict == class_label[i]:\n",
    "            count += 1\n",
    "    return count/len(class_label)"
   ]
  },
  {
   "cell_type": "code",
   "execution_count": null,
   "metadata": {},
   "outputs": [],
   "source": [
    "\n",
    "\n",
    "parser = argparse.ArgumentParser(description='Perception Algorithm')\n",
    "\n",
    "\n",
    "parser.add_argument('--iterations', type=int,default = 1,\n",
    "                    help='an integer to indicate the number of iteration')\n",
    "parser.add_argument('--noDev',action = 'store_true',\n",
    "                   help = 'indicate that does not use development data')\n",
    "\n",
    "args = parser.parse_args()\n",
    "iterations = args.iterations\n",
    "noDev = args.noDev\n",
    "\n",
    "\n",
    "# Train the algorithm    \n",
    "weight_vector = [0]*124\n",
    "\n",
    "if noDev == True:\n",
    "    weight_vector = perceptron(iterations,weight_vector)\n",
    "    acc = accuracy(class_label_collection_test,weight_vector,feature_collection_test)\n",
    "elif noDev == False:\n",
    "    temp_acc = 0\n",
    "    temp_weight = []\n",
    "    for i in range(iterations):\n",
    "        weight_vector = perceptron(1,weight_vector)\n",
    "        temp = accuracy(class_label_collection_dev,weight_vector,feature_collection_dev)\n",
    "        if temp_acc < temp:\n",
    "            temp_acc = temp\n",
    "            temp_weight = weight_vector\n",
    "    weight_vector = temp_weight\n",
    "    \n",
    "    acc = accuracy(class_label_collection_test,weight_vector,feature_collection_test)\n",
    "\n",
    "\n"
   ]
  },
  {
   "cell_type": "code",
   "execution_count": null,
   "metadata": {},
   "outputs": [],
   "source": [
    "# Test the accuracy of percee\n",
    "\n",
    "print('Test accuracy: %.12f'%acc)\n",
    "\n",
    "result = ' '. join([repr(float(k)) for k in weight_vector])\n",
    "print('Feature weights (bias last): ', result)"
   ]
  }
 ],
 "metadata": {
  "kernelspec": {
   "display_name": "Python 3",
   "language": "python",
   "name": "python3"
  },
  "language_info": {
   "codemirror_mode": {
    "name": "ipython",
    "version": 3
   },
   "file_extension": ".py",
   "mimetype": "text/x-python",
   "name": "python",
   "nbconvert_exporter": "python",
   "pygments_lexer": "ipython3",
   "version": "3.6.1"
  }
 },
 "nbformat": 4,
 "nbformat_minor": 2
}
