{
 "cells": [
  {
   "cell_type": "code",
   "execution_count": 1,
   "metadata": {
    "collapsed": true
   },
   "outputs": [],
   "source": [
    "#!/usr/bin/python3"
   ]
  },
  {
   "cell_type": "code",
   "execution_count": 2,
   "metadata": {
    "collapsed": true
   },
   "outputs": [],
   "source": [
    "import numpy as np\n",
    "import argparse\n",
    "from decimal import *"
   ]
  },
  {
   "cell_type": "code",
   "execution_count": 3,
   "metadata": {
    "collapsed": true
   },
   "outputs": [],
   "source": [
    "# Read data from training file\n",
    "file = open(\"a7a.train\")\n",
    "record_collect = []\n",
    "for line in file:\n",
    "    record_collect.append(line)\n",
    "feature_collection = []\n",
    "class_label_collection = []\n",
    "for i in record_collect:\n",
    "    record = i.split()\n",
    "    class_label_collection.append(int(record[0]))\n",
    "    #feature_record = [0] * 123 + [1]\n",
    "    #feature_record = [0] * 124\n",
    "    feature_record = [1]+[0] * 123\n",
    "    for j in range(1,len(record)):\n",
    "        position = record[j].find(':')\n",
    "        #print(type(position))\n",
    "        temp = record[j]\n",
    "        location_list = int(temp[0:position])\n",
    "        feature_record[location_list] = 1\n",
    "    feature_collection.append(feature_record)\n",
    "    \n"
   ]
  },
  {
   "cell_type": "code",
   "execution_count": 4,
   "metadata": {
    "collapsed": true
   },
   "outputs": [],
   "source": [
    "# Read the test data\n",
    "file = open(\"a7a.test\")\n",
    "record_collect_test = []\n",
    "for line in file:\n",
    "    record_collect_test.append(line)\n",
    "feature_collection_test = []\n",
    "class_label_collection_test = []\n",
    "for i in record_collect_test:\n",
    "    record_test = i.split()\n",
    "    class_label_collection_test.append(int(record_test[0]))\n",
    "    #feature_record_test = [0] * 123 + [1]\n",
    "    #feature_record_test = [0] * 124\n",
    "    feature_record_test = [1]+[0] * 123\n",
    "    for j in range(1,len(record_test)):\n",
    "        position = record_test[j].find(':')\n",
    "        #print(type(position))\n",
    "        temp = record_test[j]\n",
    "        location_list_test = int(temp[0:position])\n",
    "        feature_record_test[location_list_test] = 1\n",
    "    feature_collection_test.append(feature_record_test)"
   ]
  },
  {
   "cell_type": "code",
   "execution_count": 5,
   "metadata": {
    "collapsed": true
   },
   "outputs": [],
   "source": [
    "# Read the development data\n",
    "file = open(\"a7a.dev\")\n",
    "record_collect_dev = []\n",
    "for line in file:\n",
    "    record_collect_dev.append(line)\n",
    "feature_collection_dev = []\n",
    "class_label_collection_dev = []\n",
    "for i in record_collect_dev:\n",
    "    record_dev = i.split()\n",
    "    class_label_collection_dev.append(int(record_dev[0]))\n",
    "    #feature_record_dev = [0] * 123 + [1]\n",
    "    #feature_record_dev = [0] * 124\n",
    "    feature_record_dev = [1]+[0] * 123\n",
    "    for j in range(1,len(record_dev)):\n",
    "        position = record_dev[j].find(':')\n",
    "        #print(type(position))\n",
    "        temp = record_dev[j]\n",
    "        location_list_dev = int(temp[0:position])\n",
    "        feature_record_dev[location_list_dev] = 1\n",
    "    feature_collection_dev.append(feature_record_dev)"
   ]
  },
  {
   "cell_type": "code",
   "execution_count": 6,
   "metadata": {
    "collapsed": true
   },
   "outputs": [],
   "source": [
    "def sign (n):\n",
    "    if n > 0:\n",
    "        return 1\n",
    "    elif n == 0:\n",
    "        return 0\n",
    "    else:\n",
    "        return -1"
   ]
  },
  {
   "cell_type": "code",
   "execution_count": 7,
   "metadata": {
    "collapsed": true
   },
   "outputs": [],
   "source": [
    "def times(list1,list2):\n",
    "    result = 0\n",
    "    for i in range(len(list1)):\n",
    "        temp = list1[i]*list2[i]\n",
    "        result = result + temp\n",
    "    return result"
   ]
  },
  {
   "cell_type": "code",
   "execution_count": 8,
   "metadata": {
    "collapsed": true
   },
   "outputs": [],
   "source": [
    "def accuracy(class_label, weight, test):\n",
    "    count = 0\n",
    "    #print(len(test))\n",
    "    for i in range(len(test)):\n",
    "        #print(test[i])\n",
    "        predict = sign(times(weight,test[i]))\n",
    "        #print(predict)\n",
    "        if predict == class_label[i]:\n",
    "            count += 1\n",
    "    return count/len(class_label)"
   ]
  },
  {
   "cell_type": "code",
   "execution_count": 9,
   "metadata": {
    "collapsed": true
   },
   "outputs": [],
   "source": [
    "def svm(iterations,weight_vector,c):\n",
    "    N = len(feature_collection)\n",
    "    for i in range(iterations):\n",
    "        error_count = 0\n",
    "        for j in range(N):\n",
    "            b = weight_vector[0]\n",
    "\n",
    "            predict_value = class_label_collection[j]*(times(weight_vector[1:],feature_collection[j][1:])+b)\n",
    "            if predict_value >= 1:\n",
    "                weight_vector = [b] + list(np.subtract(weight_vector[1:],np.multiply(0.1,np.multiply(1/N,weight_vector[1:]))))\n",
    "            else:\n",
    "                error_count += 1\n",
    "                b = b - 0.1*(-1*c*class_label_collection[j])\n",
    "                weight_vector = [b] + list(np.subtract\\\n",
    "                                     (weight_vector[1:],\\\n",
    "                                      np.multiply(0.1,np.subtract(np.multiply(1/N,weight_vector[1:]),\\\n",
    "                                                                  np.multiply(c,np.multiply\\\n",
    "                                                                              (class_label_collection[j],\\\n",
    "                                                                               feature_collection[j][1:]))))))\n",
    "        if error_count == 0:\n",
    "            return weight_vector\n",
    "    return weight_vector"
   ]
  },
  {
   "cell_type": "code",
   "execution_count": 10,
   "metadata": {},
   "outputs": [
    {
     "name": "stderr",
     "output_type": "stream",
     "text": [
      "usage: ipykernel_launcher.py [-h] [--epochs EPOCHS] [--capacity CAPACITY]\n",
      "ipykernel_launcher.py: error: unrecognized arguments: -f /Users/Tony/Library/Jupyter/runtime/kernel-d711c0f3-3ef7-4af2-bec6-338153429db1.json\n"
     ]
    },
    {
     "ename": "SystemExit",
     "evalue": "2",
     "output_type": "error",
     "traceback": [
      "An exception has occurred, use %tb to see the full traceback.\n",
      "\u001b[0;31mSystemExit\u001b[0m\u001b[0;31m:\u001b[0m 2\n"
     ]
    },
    {
     "name": "stderr",
     "output_type": "stream",
     "text": [
      "/Applications/anaconda/lib/python3.6/site-packages/IPython/core/interactiveshell.py:2889: UserWarning: To exit: use 'exit', 'quit', or Ctrl-D.\n",
      "  warn(\"To exit: use 'exit', 'quit', or Ctrl-D.\", stacklevel=1)\n"
     ]
    }
   ],
   "source": [
    "parser = argparse.ArgumentParser(description='SVM Algorithm')\n",
    "\n",
    "\n",
    "parser.add_argument('--epochs', type=int,default = 1,\n",
    "                    help='an integer to indicate the number of iteration')\n",
    "parser.add_argument('--capacity',type = float,default = 1,\n",
    "                   help = 'indicate that number of the capacity')\n",
    "\n",
    "args = parser.parse_args()\n",
    "k = args.epochs\n",
    "c = args.capacity\n",
    "\n",
    "weight_vector = [0]*124\n",
    "weight_vector = svm(k,weight_vector,c)\n",
    "#print(svm(1,weight_vector,0.868))\n",
    "\n",
    "acc_dev = accuracy(class_label_collection_dev,weight_vector,feature_collection_dev)\n",
    "\n",
    "acc_test = accuracy(class_label_collection_test,weight_vector,feature_collection_test)\n",
    "\n",
    "acc_train = accuracy(class_label_collection,weight_vector,feature_collection)\n",
    "\n",
    "\n",
    "\n",
    "print('EPOCHS:', k)\n",
    "print('CAPACITY:', c)\n",
    "print('TRAINING_ACCURACY:',acc_train)\n",
    "print('TEST_ACCURACY:',acc_test)\n",
    "print('DEV_ACCURACY:',acc_dev)\n",
    "\n",
    "\n",
    "\n",
    "result = ' '. join([repr(float(k)) for k in weight_vector])\n",
    "print('FINAL_SVM:', weight_vector)\n",
    "\n",
    "#print('Test accuracy: %.12f'%acc)\n",
    "\n",
    "\n",
    "\n",
    "\n"
   ]
  },
  {
   "cell_type": "code",
   "execution_count": null,
   "metadata": {
    "collapsed": true
   },
   "outputs": [],
   "source": []
  }
 ],
 "metadata": {
  "kernelspec": {
   "display_name": "Python 3",
   "language": "python",
   "name": "python3"
  },
  "language_info": {
   "codemirror_mode": {
    "name": "ipython",
    "version": 3
   },
   "file_extension": ".py",
   "mimetype": "text/x-python",
   "name": "python",
   "nbconvert_exporter": "python",
   "pygments_lexer": "ipython3",
   "version": "3.6.3"
  }
 },
 "nbformat": 4,
 "nbformat_minor": 2
}
